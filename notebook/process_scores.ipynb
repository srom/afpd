{
 "cells": [
  {
   "cell_type": "code",
   "execution_count": 1,
   "metadata": {},
   "outputs": [
    {
     "name": "stderr",
     "output_type": "stream",
     "text": [
      "/var/folders/xd/714yy8tn5vz90_wtnn7vglhc0000gq/T/ipykernel_53937/2923446285.py:4: DeprecationWarning: \n",
      "Pyarrow will become a required dependency of pandas in the next major release of pandas (pandas 3.0),\n",
      "(to allow more performant data types, such as the Arrow string type, and better interoperability with other libraries)\n",
      "but was not found to be installed on your system.\n",
      "If this would cause problems for you,\n",
      "please provide us feedback at https://github.com/pandas-dev/pandas/issues/54466\n",
      "        \n",
      "  import pandas as pd\n"
     ]
    }
   ],
   "source": [
    "import os\n",
    "from pathlib import Path\n",
    "\n",
    "import pandas as pd\n",
    "from Bio import SeqIO\n",
    "\n",
    "if os.getcwd().endswith('notebook'):\n",
    "    os.chdir('..')"
   ]
  },
  {
   "cell_type": "code",
   "execution_count": null,
   "metadata": {},
   "outputs": [],
   "source": [
    "species = 'P_furiosus'"
   ]
  },
  {
   "cell_type": "code",
   "execution_count": 2,
   "metadata": {},
   "outputs": [
    {
     "data": {
      "text/plain": [
       "True"
      ]
     },
     "execution_count": 2,
     "metadata": {},
     "output_type": "execute_result"
    }
   ],
   "source": [
    "base_folder = Path(os.path.expanduser('~')) / 'Documents' / 'afpd'\n",
    "base_folder.is_dir()"
   ]
  },
  {
   "cell_type": "code",
   "execution_count": 6,
   "metadata": {},
   "outputs": [
    {
     "data": {
      "text/plain": [
       "True"
      ]
     },
     "execution_count": 6,
     "metadata": {},
     "output_type": "execute_result"
    }
   ],
   "source": [
    "fasta_path = base_folder / f'{species}' / f'{species}.fasta'\n",
    "fasta_path.is_file()"
   ]
  },
  {
   "cell_type": "code",
   "execution_count": 7,
   "metadata": {},
   "outputs": [
    {
     "data": {
      "text/plain": [
       "2036"
      ]
     },
     "execution_count": 7,
     "metadata": {},
     "output_type": "execute_result"
    }
   ],
   "source": [
    "records_dict = SeqIO.to_dict(SeqIO.parse(fasta_path, 'fasta'))\n",
    "len(records_dict)"
   ]
  },
  {
   "cell_type": "code",
   "execution_count": 8,
   "metadata": {},
   "outputs": [],
   "source": [
    "def compute_score(bait_id):\n",
    "    scores_df = pd.read_csv(base_folder / f'{species}' / 'outputs' / f'{bait_id}_pulldown_scores.csv')\n",
    "\n",
    "    scores_df['target_uniprot_id'] = scores_df['id'].apply(\n",
    "        lambda idx: idx.split('__')[-1]\n",
    "    )\n",
    "    scores_df['target_description'] = scores_df['target_uniprot_id'].apply(\n",
    "        lambda uniprot_id: records_dict[uniprot_id].description.replace(uniprot_id, '').strip()\n",
    "    )\n",
    "\n",
    "    scores_df.to_csv(\n",
    "        base_folder / f'{species}' / 'outputs' / f'{bait_id}_pulldown_scores_annotated.csv',\n",
    "        index=False,\n",
    "    )"
   ]
  },
  {
   "cell_type": "code",
   "execution_count": 9,
   "metadata": {},
   "outputs": [],
   "source": [
    "bait_ids = [\n",
    "    'I6V1B6',\n",
    "    'I6V3Z3',\n",
    "    'I6V1B6__I6V1B6',\n",
    "    'I6V3Z3__I6V3Z3',\n",
    "    'I6V1B6__I6V3Z3',\n",
    "]\n",
    "for bait_id in bait_ids:\n",
    "    compute_score(bait_id)"
   ]
  },
  {
   "cell_type": "markdown",
   "metadata": {},
   "source": [
    "## extract top hits\n",
    "\n",
    "Hits with ipTM > 0.7"
   ]
  },
  {
   "cell_type": "code",
   "execution_count": 8,
   "metadata": {},
   "outputs": [
    {
     "name": "stdout",
     "output_type": "stream",
     "text": [
      "Hits with ipTM > 0.75 for T_kodakarensis: 31\n",
      "Hits with ipTM > 0.75 for P_furiosus: 46\n"
     ]
    }
   ],
   "source": [
    "input_dict = {\n",
    "    'T_kodakarensis': [\n",
    "        'Q9Y8I1',\n",
    "        'Q9Y8I2',\n",
    "        'Q9Y8I1__Q9Y8I1',\n",
    "        'Q9Y8I2__Q9Y8I2',\n",
    "        'Q9Y8I1__Q9Y8I2',\n",
    "    ],\n",
    "    'P_furiosus': [\n",
    "        'I6V1B6',\n",
    "        'I6V3Z3',\n",
    "        'I6V1B6__I6V1B6',\n",
    "        'I6V3Z3__I6V3Z3',\n",
    "        'I6V1B6__I6V3Z3',\n",
    "    ],\n",
    "}\n",
    "threshold = 0.75\n",
    "for species, bait_ids in input_dict.items():\n",
    "    top_hits = []\n",
    "    for bait_id in bait_ids:\n",
    "        df = pd.read_csv(base_folder / species / 'outputs' / f'{bait_id}_pulldown_scores_annotated.csv')\n",
    "\n",
    "        top_hits.extend(\n",
    "            df[df['iptm'] > threshold].sort_values('iptm', ascending=False)['id'].values.tolist()\n",
    "        )\n",
    "\n",
    "    output = pd.DataFrame.from_dict({'id': top_hits})\n",
    "    output.to_csv(base_folder / species / 'top_hit_ids.txt', header=False, index=False)\n",
    "    print(f'Hits with ipTM > {threshold} for {species}: {len(output):,}')"
   ]
  },
  {
   "cell_type": "code",
   "execution_count": null,
   "metadata": {},
   "outputs": [],
   "source": []
  }
 ],
 "metadata": {
  "kernelspec": {
   "display_name": "afpd",
   "language": "python",
   "name": "python3"
  },
  "language_info": {
   "codemirror_mode": {
    "name": "ipython",
    "version": 3
   },
   "file_extension": ".py",
   "mimetype": "text/x-python",
   "name": "python",
   "nbconvert_exporter": "python",
   "pygments_lexer": "ipython3",
   "version": "3.11.8"
  }
 },
 "nbformat": 4,
 "nbformat_minor": 2
}
