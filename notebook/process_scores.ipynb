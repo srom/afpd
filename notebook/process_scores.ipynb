{
 "cells": [
  {
   "cell_type": "code",
   "execution_count": 25,
   "metadata": {},
   "outputs": [],
   "source": [
    "import os\n",
    "from pathlib import Path\n",
    "\n",
    "import pandas as pd\n",
    "from Bio import SeqIO\n",
    "\n",
    "if os.getcwd().endswith('notebook'):\n",
    "    os.chdir('..')"
   ]
  },
  {
   "cell_type": "code",
   "execution_count": 26,
   "metadata": {},
   "outputs": [
    {
     "data": {
      "text/plain": [
       "True"
      ]
     },
     "execution_count": 26,
     "metadata": {},
     "output_type": "execute_result"
    }
   ],
   "source": [
    "base_folder = Path(os.path.expanduser('~')) / 'Documents' / 'afpd' / 'T_kodakarensis'\n",
    "base_folder.is_dir()"
   ]
  },
  {
   "cell_type": "code",
   "execution_count": 27,
   "metadata": {},
   "outputs": [
    {
     "data": {
      "text/plain": [
       "True"
      ]
     },
     "execution_count": 27,
     "metadata": {},
     "output_type": "execute_result"
    }
   ],
   "source": [
    "fasta_path = Path('/Users/rs1521/Documents/afpd/T_kodakarensis/T_kodakarensis.fasta')\n",
    "fasta_path.is_file()"
   ]
  },
  {
   "cell_type": "code",
   "execution_count": 28,
   "metadata": {},
   "outputs": [
    {
     "data": {
      "text/html": [
       "<div>\n",
       "<style scoped>\n",
       "    .dataframe tbody tr th:only-of-type {\n",
       "        vertical-align: middle;\n",
       "    }\n",
       "\n",
       "    .dataframe tbody tr th {\n",
       "        vertical-align: top;\n",
       "    }\n",
       "\n",
       "    .dataframe thead th {\n",
       "        text-align: right;\n",
       "    }\n",
       "</style>\n",
       "<table border=\"1\" class=\"dataframe\">\n",
       "  <thead>\n",
       "    <tr style=\"text-align: right;\">\n",
       "      <th></th>\n",
       "      <th>id</th>\n",
       "      <th>plddt</th>\n",
       "      <th>ptm</th>\n",
       "      <th>iptm</th>\n",
       "      <th>dockq</th>\n",
       "      <th>avg_dockq_iptm</th>\n",
       "    </tr>\n",
       "  </thead>\n",
       "  <tbody>\n",
       "    <tr>\n",
       "      <th>0</th>\n",
       "      <td>Q9Y8I2__Q9Y8I2__Q5JI31</td>\n",
       "      <td>94.38</td>\n",
       "      <td>0.84</td>\n",
       "      <td>0.82</td>\n",
       "      <td>1.048</td>\n",
       "      <td>0.934</td>\n",
       "    </tr>\n",
       "    <tr>\n",
       "      <th>1</th>\n",
       "      <td>Q9Y8I2__Q9Y8I2__Q5JHZ6</td>\n",
       "      <td>95.66</td>\n",
       "      <td>0.86</td>\n",
       "      <td>0.82</td>\n",
       "      <td>1.048</td>\n",
       "      <td>0.934</td>\n",
       "    </tr>\n",
       "    <tr>\n",
       "      <th>2</th>\n",
       "      <td>Q9Y8I2__Q9Y8I2__Q5JD15</td>\n",
       "      <td>92.77</td>\n",
       "      <td>0.85</td>\n",
       "      <td>0.81</td>\n",
       "      <td>1.048</td>\n",
       "      <td>0.929</td>\n",
       "    </tr>\n",
       "    <tr>\n",
       "      <th>3</th>\n",
       "      <td>Q9Y8I2__Q9Y8I2__Q5JDP9</td>\n",
       "      <td>94.62</td>\n",
       "      <td>0.84</td>\n",
       "      <td>0.81</td>\n",
       "      <td>1.048</td>\n",
       "      <td>0.929</td>\n",
       "    </tr>\n",
       "    <tr>\n",
       "      <th>4</th>\n",
       "      <td>Q9Y8I2__Q9Y8I2__Q5JD81</td>\n",
       "      <td>93.00</td>\n",
       "      <td>0.86</td>\n",
       "      <td>0.80</td>\n",
       "      <td>1.048</td>\n",
       "      <td>0.924</td>\n",
       "    </tr>\n",
       "  </tbody>\n",
       "</table>\n",
       "</div>"
      ],
      "text/plain": [
       "                       id  plddt   ptm  iptm  dockq  avg_dockq_iptm\n",
       "0  Q9Y8I2__Q9Y8I2__Q5JI31  94.38  0.84  0.82  1.048           0.934\n",
       "1  Q9Y8I2__Q9Y8I2__Q5JHZ6  95.66  0.86  0.82  1.048           0.934\n",
       "2  Q9Y8I2__Q9Y8I2__Q5JD15  92.77  0.85  0.81  1.048           0.929\n",
       "3  Q9Y8I2__Q9Y8I2__Q5JDP9  94.62  0.84  0.81  1.048           0.929\n",
       "4  Q9Y8I2__Q9Y8I2__Q5JD81  93.00  0.86  0.80  1.048           0.924"
      ]
     },
     "execution_count": 28,
     "metadata": {},
     "output_type": "execute_result"
    }
   ],
   "source": [
    "bait_id = 'Q9Y8I2__Q9Y8I2'\n",
    "scores_df = pd.read_csv(base_folder / 'outputs' / f'{bait_id}_pulldown_scores.csv')\n",
    "scores_df.head()"
   ]
  },
  {
   "cell_type": "code",
   "execution_count": 29,
   "metadata": {},
   "outputs": [
    {
     "data": {
      "text/plain": [
       "2275"
      ]
     },
     "execution_count": 29,
     "metadata": {},
     "output_type": "execute_result"
    }
   ],
   "source": [
    "len(scores_df)"
   ]
  },
  {
   "cell_type": "code",
   "execution_count": 30,
   "metadata": {},
   "outputs": [
    {
     "data": {
      "text/plain": [
       "2301"
      ]
     },
     "execution_count": 30,
     "metadata": {},
     "output_type": "execute_result"
    }
   ],
   "source": [
    "records_dict = SeqIO.to_dict(SeqIO.parse(fasta_path, 'fasta'))\n",
    "len(records_dict)"
   ]
  },
  {
   "cell_type": "code",
   "execution_count": 31,
   "metadata": {},
   "outputs": [
    {
     "data": {
      "text/html": [
       "<div>\n",
       "<style scoped>\n",
       "    .dataframe tbody tr th:only-of-type {\n",
       "        vertical-align: middle;\n",
       "    }\n",
       "\n",
       "    .dataframe tbody tr th {\n",
       "        vertical-align: top;\n",
       "    }\n",
       "\n",
       "    .dataframe thead th {\n",
       "        text-align: right;\n",
       "    }\n",
       "</style>\n",
       "<table border=\"1\" class=\"dataframe\">\n",
       "  <thead>\n",
       "    <tr style=\"text-align: right;\">\n",
       "      <th></th>\n",
       "      <th>id</th>\n",
       "      <th>plddt</th>\n",
       "      <th>ptm</th>\n",
       "      <th>iptm</th>\n",
       "      <th>dockq</th>\n",
       "      <th>avg_dockq_iptm</th>\n",
       "      <th>target_uniprot_id</th>\n",
       "      <th>target_description</th>\n",
       "    </tr>\n",
       "  </thead>\n",
       "  <tbody>\n",
       "    <tr>\n",
       "      <th>0</th>\n",
       "      <td>Q9Y8I2__Q9Y8I2__Q5JI31</td>\n",
       "      <td>94.38</td>\n",
       "      <td>0.84</td>\n",
       "      <td>0.82</td>\n",
       "      <td>1.048</td>\n",
       "      <td>0.934</td>\n",
       "      <td>Q5JI31</td>\n",
       "      <td>Predicted nucleic acid-binding protein, contai...</td>\n",
       "    </tr>\n",
       "    <tr>\n",
       "      <th>1</th>\n",
       "      <td>Q9Y8I2__Q9Y8I2__Q5JHZ6</td>\n",
       "      <td>95.66</td>\n",
       "      <td>0.86</td>\n",
       "      <td>0.82</td>\n",
       "      <td>1.048</td>\n",
       "      <td>0.934</td>\n",
       "      <td>Q5JHZ6</td>\n",
       "      <td>Peroxiredoxin, AhpC/TSA family OS=Thermococcus...</td>\n",
       "    </tr>\n",
       "    <tr>\n",
       "      <th>2</th>\n",
       "      <td>Q9Y8I2__Q9Y8I2__Q5JD15</td>\n",
       "      <td>92.77</td>\n",
       "      <td>0.85</td>\n",
       "      <td>0.81</td>\n",
       "      <td>1.048</td>\n",
       "      <td>0.929</td>\n",
       "      <td>Q5JD15</td>\n",
       "      <td>DprA winged helix domain-containing protein OS...</td>\n",
       "    </tr>\n",
       "    <tr>\n",
       "      <th>3</th>\n",
       "      <td>Q9Y8I2__Q9Y8I2__Q5JDP9</td>\n",
       "      <td>94.62</td>\n",
       "      <td>0.84</td>\n",
       "      <td>0.81</td>\n",
       "      <td>1.048</td>\n",
       "      <td>0.929</td>\n",
       "      <td>Q5JDP9</td>\n",
       "      <td>Nitrosopumilus output domain-containing protei...</td>\n",
       "    </tr>\n",
       "    <tr>\n",
       "      <th>4</th>\n",
       "      <td>Q9Y8I2__Q9Y8I2__Q5JD81</td>\n",
       "      <td>93.00</td>\n",
       "      <td>0.86</td>\n",
       "      <td>0.80</td>\n",
       "      <td>1.048</td>\n",
       "      <td>0.924</td>\n",
       "      <td>Q5JD81</td>\n",
       "      <td>Uncharacterized protein OS=Thermococcus kodaka...</td>\n",
       "    </tr>\n",
       "  </tbody>\n",
       "</table>\n",
       "</div>"
      ],
      "text/plain": [
       "                       id  plddt   ptm  iptm  dockq  avg_dockq_iptm  \\\n",
       "0  Q9Y8I2__Q9Y8I2__Q5JI31  94.38  0.84  0.82  1.048           0.934   \n",
       "1  Q9Y8I2__Q9Y8I2__Q5JHZ6  95.66  0.86  0.82  1.048           0.934   \n",
       "2  Q9Y8I2__Q9Y8I2__Q5JD15  92.77  0.85  0.81  1.048           0.929   \n",
       "3  Q9Y8I2__Q9Y8I2__Q5JDP9  94.62  0.84  0.81  1.048           0.929   \n",
       "4  Q9Y8I2__Q9Y8I2__Q5JD81  93.00  0.86  0.80  1.048           0.924   \n",
       "\n",
       "  target_uniprot_id                                 target_description  \n",
       "0            Q5JI31  Predicted nucleic acid-binding protein, contai...  \n",
       "1            Q5JHZ6  Peroxiredoxin, AhpC/TSA family OS=Thermococcus...  \n",
       "2            Q5JD15  DprA winged helix domain-containing protein OS...  \n",
       "3            Q5JDP9  Nitrosopumilus output domain-containing protei...  \n",
       "4            Q5JD81  Uncharacterized protein OS=Thermococcus kodaka...  "
      ]
     },
     "execution_count": 31,
     "metadata": {},
     "output_type": "execute_result"
    }
   ],
   "source": [
    "scores_df['target_uniprot_id'] = scores_df['id'].apply(\n",
    "    lambda idx: idx.split('__')[-1]\n",
    ")\n",
    "scores_df['target_description'] = scores_df['target_uniprot_id'].apply(\n",
    "    lambda uniprot_id: records_dict[uniprot_id].description.replace(uniprot_id, '').strip()\n",
    ")\n",
    "scores_df.head()"
   ]
  },
  {
   "cell_type": "code",
   "execution_count": 32,
   "metadata": {},
   "outputs": [],
   "source": [
    "scores_df.to_csv(\n",
    "    base_folder / 'outputs' / f'{bait_id}_pulldown_scores_annotated.csv',\n",
    "    index=False,\n",
    ")"
   ]
  },
  {
   "cell_type": "code",
   "execution_count": null,
   "metadata": {},
   "outputs": [],
   "source": []
  }
 ],
 "metadata": {
  "kernelspec": {
   "display_name": "afpd",
   "language": "python",
   "name": "python3"
  },
  "language_info": {
   "codemirror_mode": {
    "name": "ipython",
    "version": 3
   },
   "file_extension": ".py",
   "mimetype": "text/x-python",
   "name": "python",
   "nbconvert_exporter": "python",
   "pygments_lexer": "ipython3",
   "version": "3.11.8"
  }
 },
 "nbformat": 4,
 "nbformat_minor": 2
}
