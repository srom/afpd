{
 "cells": [
  {
   "cell_type": "code",
   "execution_count": 3,
   "metadata": {},
   "outputs": [],
   "source": [
    "import os\n",
    "from pathlib import Path\n",
    "\n",
    "import pandas as pd\n",
    "from Bio import SeqIO\n",
    "\n",
    "if os.getcwd().endswith('notebook'):\n",
    "    os.chdir('..')"
   ]
  },
  {
   "cell_type": "code",
   "execution_count": 14,
   "metadata": {},
   "outputs": [
    {
     "data": {
      "text/plain": [
       "True"
      ]
     },
     "execution_count": 14,
     "metadata": {},
     "output_type": "execute_result"
    }
   ],
   "source": [
    "base_folder = Path(os.path.expanduser('~')) / 'Documents' / 'afpd' / 'T_kodakarensis'\n",
    "base_folder.is_dir()"
   ]
  },
  {
   "cell_type": "code",
   "execution_count": null,
   "metadata": {},
   "outputs": [],
   "source": [
    "fasta_path = Path('/Users/rs1521/Documents/afpd/T_kodakarensis/T_kodakarensis.fasta')\n",
    "fasta_path.is_file()"
   ]
  },
  {
   "cell_type": "code",
   "execution_count": 23,
   "metadata": {},
   "outputs": [
    {
     "data": {
      "text/html": [
       "<div>\n",
       "<style scoped>\n",
       "    .dataframe tbody tr th:only-of-type {\n",
       "        vertical-align: middle;\n",
       "    }\n",
       "\n",
       "    .dataframe tbody tr th {\n",
       "        vertical-align: top;\n",
       "    }\n",
       "\n",
       "    .dataframe thead th {\n",
       "        text-align: right;\n",
       "    }\n",
       "</style>\n",
       "<table border=\"1\" class=\"dataframe\">\n",
       "  <thead>\n",
       "    <tr style=\"text-align: right;\">\n",
       "      <th></th>\n",
       "      <th>id</th>\n",
       "      <th>plddt</th>\n",
       "      <th>ptm</th>\n",
       "      <th>iptm</th>\n",
       "      <th>dockq</th>\n",
       "    </tr>\n",
       "  </thead>\n",
       "  <tbody>\n",
       "    <tr>\n",
       "      <th>0</th>\n",
       "      <td>Q9Y8I2__Q9Y8I1</td>\n",
       "      <td>96.89</td>\n",
       "      <td>0.91</td>\n",
       "      <td>0.91</td>\n",
       "      <td>0.7091</td>\n",
       "    </tr>\n",
       "    <tr>\n",
       "      <th>1</th>\n",
       "      <td>Q9Y8I2__Q9Y8I2</td>\n",
       "      <td>97.10</td>\n",
       "      <td>0.91</td>\n",
       "      <td>0.91</td>\n",
       "      <td>0.7076</td>\n",
       "    </tr>\n",
       "    <tr>\n",
       "      <th>2</th>\n",
       "      <td>Q9Y8I2__Q5JIZ6</td>\n",
       "      <td>83.84</td>\n",
       "      <td>0.50</td>\n",
       "      <td>0.08</td>\n",
       "      <td>0.6056</td>\n",
       "    </tr>\n",
       "    <tr>\n",
       "      <th>3</th>\n",
       "      <td>Q9Y8I2__Q5JGL9</td>\n",
       "      <td>87.62</td>\n",
       "      <td>0.60</td>\n",
       "      <td>0.06</td>\n",
       "      <td>0.5839</td>\n",
       "    </tr>\n",
       "    <tr>\n",
       "      <th>4</th>\n",
       "      <td>Q9Y8I2__Q5JDQ6</td>\n",
       "      <td>89.16</td>\n",
       "      <td>0.87</td>\n",
       "      <td>0.18</td>\n",
       "      <td>0.5805</td>\n",
       "    </tr>\n",
       "  </tbody>\n",
       "</table>\n",
       "</div>"
      ],
      "text/plain": [
       "               id  plddt   ptm  iptm   dockq\n",
       "0  Q9Y8I2__Q9Y8I1  96.89  0.91  0.91  0.7091\n",
       "1  Q9Y8I2__Q9Y8I2  97.10  0.91  0.91  0.7076\n",
       "2  Q9Y8I2__Q5JIZ6  83.84  0.50  0.08  0.6056\n",
       "3  Q9Y8I2__Q5JGL9  87.62  0.60  0.06  0.5839\n",
       "4  Q9Y8I2__Q5JDQ6  89.16  0.87  0.18  0.5805"
      ]
     },
     "execution_count": 23,
     "metadata": {},
     "output_type": "execute_result"
    }
   ],
   "source": [
    "bait_id = 'Q9Y8I2'\n",
    "scores_df = pd.read_csv(base_folder / 'outputs' / f'{bait_id}_scores.csv')\n",
    "scores_df.head()"
   ]
  },
  {
   "cell_type": "code",
   "execution_count": 24,
   "metadata": {},
   "outputs": [
    {
     "data": {
      "text/plain": [
       "2267"
      ]
     },
     "execution_count": 24,
     "metadata": {},
     "output_type": "execute_result"
    }
   ],
   "source": [
    "len(scores_df)"
   ]
  },
  {
   "cell_type": "code",
   "execution_count": 25,
   "metadata": {},
   "outputs": [
    {
     "data": {
      "text/plain": [
       "2301"
      ]
     },
     "execution_count": 25,
     "metadata": {},
     "output_type": "execute_result"
    }
   ],
   "source": [
    "records_dict = SeqIO.to_dict(SeqIO.parse(fasta_path, 'fasta'))\n",
    "len(records_dict)"
   ]
  },
  {
   "cell_type": "code",
   "execution_count": 26,
   "metadata": {},
   "outputs": [
    {
     "data": {
      "text/html": [
       "<div>\n",
       "<style scoped>\n",
       "    .dataframe tbody tr th:only-of-type {\n",
       "        vertical-align: middle;\n",
       "    }\n",
       "\n",
       "    .dataframe tbody tr th {\n",
       "        vertical-align: top;\n",
       "    }\n",
       "\n",
       "    .dataframe thead th {\n",
       "        text-align: right;\n",
       "    }\n",
       "</style>\n",
       "<table border=\"1\" class=\"dataframe\">\n",
       "  <thead>\n",
       "    <tr style=\"text-align: right;\">\n",
       "      <th></th>\n",
       "      <th>id</th>\n",
       "      <th>plddt</th>\n",
       "      <th>ptm</th>\n",
       "      <th>iptm</th>\n",
       "      <th>dockq</th>\n",
       "      <th>target_uniprot_id</th>\n",
       "      <th>target_description</th>\n",
       "    </tr>\n",
       "  </thead>\n",
       "  <tbody>\n",
       "    <tr>\n",
       "      <th>0</th>\n",
       "      <td>Q9Y8I2__Q9Y8I1</td>\n",
       "      <td>96.89</td>\n",
       "      <td>0.91</td>\n",
       "      <td>0.91</td>\n",
       "      <td>0.7091</td>\n",
       "      <td>Q9Y8I1</td>\n",
       "      <td>Archaeal histone A OS=Thermococcus kodakarensi...</td>\n",
       "    </tr>\n",
       "    <tr>\n",
       "      <th>1</th>\n",
       "      <td>Q9Y8I2__Q9Y8I2</td>\n",
       "      <td>97.10</td>\n",
       "      <td>0.91</td>\n",
       "      <td>0.91</td>\n",
       "      <td>0.7076</td>\n",
       "      <td>Q9Y8I2</td>\n",
       "      <td>Archaeal histone B OS=Thermococcus kodakarensi...</td>\n",
       "    </tr>\n",
       "    <tr>\n",
       "      <th>2</th>\n",
       "      <td>Q9Y8I2__Q5JIZ6</td>\n",
       "      <td>83.84</td>\n",
       "      <td>0.50</td>\n",
       "      <td>0.08</td>\n",
       "      <td>0.6056</td>\n",
       "      <td>Q5JIZ6</td>\n",
       "      <td>Predicted transcription regulator, containing ...</td>\n",
       "    </tr>\n",
       "    <tr>\n",
       "      <th>3</th>\n",
       "      <td>Q9Y8I2__Q5JGL9</td>\n",
       "      <td>87.62</td>\n",
       "      <td>0.60</td>\n",
       "      <td>0.06</td>\n",
       "      <td>0.5839</td>\n",
       "      <td>Q5JGL9</td>\n",
       "      <td>Predicted transcription regulator, Lrp/AsnC fa...</td>\n",
       "    </tr>\n",
       "    <tr>\n",
       "      <th>4</th>\n",
       "      <td>Q9Y8I2__Q5JDQ6</td>\n",
       "      <td>89.16</td>\n",
       "      <td>0.87</td>\n",
       "      <td>0.18</td>\n",
       "      <td>0.5805</td>\n",
       "      <td>Q5JDQ6</td>\n",
       "      <td>Acylamino acid-releasing enzyme OS=Thermococcu...</td>\n",
       "    </tr>\n",
       "  </tbody>\n",
       "</table>\n",
       "</div>"
      ],
      "text/plain": [
       "               id  plddt   ptm  iptm   dockq target_uniprot_id  \\\n",
       "0  Q9Y8I2__Q9Y8I1  96.89  0.91  0.91  0.7091            Q9Y8I1   \n",
       "1  Q9Y8I2__Q9Y8I2  97.10  0.91  0.91  0.7076            Q9Y8I2   \n",
       "2  Q9Y8I2__Q5JIZ6  83.84  0.50  0.08  0.6056            Q5JIZ6   \n",
       "3  Q9Y8I2__Q5JGL9  87.62  0.60  0.06  0.5839            Q5JGL9   \n",
       "4  Q9Y8I2__Q5JDQ6  89.16  0.87  0.18  0.5805            Q5JDQ6   \n",
       "\n",
       "                                  target_description  \n",
       "0  Archaeal histone A OS=Thermococcus kodakarensi...  \n",
       "1  Archaeal histone B OS=Thermococcus kodakarensi...  \n",
       "2  Predicted transcription regulator, containing ...  \n",
       "3  Predicted transcription regulator, Lrp/AsnC fa...  \n",
       "4  Acylamino acid-releasing enzyme OS=Thermococcu...  "
      ]
     },
     "execution_count": 26,
     "metadata": {},
     "output_type": "execute_result"
    }
   ],
   "source": [
    "scores_df['target_uniprot_id'] = scores_df['id'].apply(\n",
    "    lambda idx: idx.split('__')[1]\n",
    ")\n",
    "scores_df['target_description'] = scores_df['target_uniprot_id'].apply(\n",
    "    lambda uniprot_id: records_dict[uniprot_id].description.replace(uniprot_id, '').strip()\n",
    ")\n",
    "scores_df.head()"
   ]
  },
  {
   "cell_type": "code",
   "execution_count": 27,
   "metadata": {},
   "outputs": [],
   "source": [
    "scores_df.to_csv(\n",
    "    base_folder / 'outputs' / f'{bait_id}_scores_annotated.csv',\n",
    "    index=False,\n",
    ")"
   ]
  },
  {
   "cell_type": "code",
   "execution_count": null,
   "metadata": {},
   "outputs": [],
   "source": []
  }
 ],
 "metadata": {
  "kernelspec": {
   "display_name": "afpd",
   "language": "python",
   "name": "python3"
  },
  "language_info": {
   "codemirror_mode": {
    "name": "ipython",
    "version": 3
   },
   "file_extension": ".py",
   "mimetype": "text/x-python",
   "name": "python",
   "nbconvert_exporter": "python",
   "pygments_lexer": "ipython3",
   "version": "3.11.8"
  }
 },
 "nbformat": 4,
 "nbformat_minor": 2
}
