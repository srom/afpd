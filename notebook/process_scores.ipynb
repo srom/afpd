{
 "cells": [
  {
   "cell_type": "code",
   "execution_count": 41,
   "metadata": {},
   "outputs": [],
   "source": [
    "import os\n",
    "from pathlib import Path\n",
    "\n",
    "import pandas as pd\n",
    "from Bio import SeqIO\n",
    "\n",
    "if os.getcwd().endswith('notebook'):\n",
    "    os.chdir('..')"
   ]
  },
  {
   "cell_type": "code",
   "execution_count": 42,
   "metadata": {},
   "outputs": [
    {
     "data": {
      "text/plain": [
       "True"
      ]
     },
     "execution_count": 42,
     "metadata": {},
     "output_type": "execute_result"
    }
   ],
   "source": [
    "base_folder = Path(os.path.expanduser('~')) / 'Documents' / 'afpd' / 'T_kodakarensis'\n",
    "base_folder.is_dir()"
   ]
  },
  {
   "cell_type": "code",
   "execution_count": 43,
   "metadata": {},
   "outputs": [
    {
     "data": {
      "text/plain": [
       "True"
      ]
     },
     "execution_count": 43,
     "metadata": {},
     "output_type": "execute_result"
    }
   ],
   "source": [
    "fasta_path = Path('/Users/rs1521/Documents/afpd/T_kodakarensis/T_kodakarensis.fasta')\n",
    "fasta_path.is_file()"
   ]
  },
  {
   "cell_type": "code",
   "execution_count": 44,
   "metadata": {},
   "outputs": [
    {
     "data": {
      "text/plain": [
       "2301"
      ]
     },
     "execution_count": 44,
     "metadata": {},
     "output_type": "execute_result"
    }
   ],
   "source": [
    "records_dict = SeqIO.to_dict(SeqIO.parse(fasta_path, 'fasta'))\n",
    "len(records_dict)"
   ]
  },
  {
   "cell_type": "code",
   "execution_count": 45,
   "metadata": {},
   "outputs": [],
   "source": [
    "def compute_score(bait_id):\n",
    "    scores_df = pd.read_csv(base_folder / 'outputs' / f'{bait_id}_pulldown_scores.csv')\n",
    "\n",
    "    scores_df['target_uniprot_id'] = scores_df['id'].apply(\n",
    "        lambda idx: idx.split('__')[-1]\n",
    "    )\n",
    "    scores_df['target_description'] = scores_df['target_uniprot_id'].apply(\n",
    "        lambda uniprot_id: records_dict[uniprot_id].description.replace(uniprot_id, '').strip()\n",
    "    )\n",
    "\n",
    "    scores_df.to_csv(\n",
    "        base_folder / 'outputs' / f'{bait_id}_pulldown_scores_annotated.csv',\n",
    "        index=False,\n",
    "    )"
   ]
  },
  {
   "cell_type": "code",
   "execution_count": 46,
   "metadata": {},
   "outputs": [],
   "source": [
    "bait_ids = [\n",
    "    'Q9Y8I1',\n",
    "    'Q9Y8I2',\n",
    "    'Q9Y8I1__Q9Y8I1',\n",
    "    'Q9Y8I2__Q9Y8I2',\n",
    "    'Q9Y8I1__Q9Y8I2',\n",
    "]\n",
    "for bait_id in bait_ids:\n",
    "    compute_score(bait_id)"
   ]
  },
  {
   "cell_type": "code",
   "execution_count": null,
   "metadata": {},
   "outputs": [],
   "source": []
  }
 ],
 "metadata": {
  "kernelspec": {
   "display_name": "afpd",
   "language": "python",
   "name": "python3"
  },
  "language_info": {
   "codemirror_mode": {
    "name": "ipython",
    "version": 3
   },
   "file_extension": ".py",
   "mimetype": "text/x-python",
   "name": "python",
   "nbconvert_exporter": "python",
   "pygments_lexer": "ipython3",
   "version": "3.11.8"
  }
 },
 "nbformat": 4,
 "nbformat_minor": 2
}
